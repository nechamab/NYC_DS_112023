{
 "cells": [
  {
   "cell_type": "markdown",
   "metadata": {
    "cell_style": "center",
    "slideshow": {
     "slide_type": "slide"
    }
   },
   "source": [
    "<div style=\"color:white;\n",
    "           display:fill;\n",
    "           border-radius:5px;\n",
    "           background-color:#5642C5;\n",
    "           font-size:200%;\n",
    "           font-family:Arial;letter-spacing:0.5px\">\n",
    "\n",
    "<p width = 20%, style=\"padding: 10px;\n",
    "              color:white;\">\n",
    "Base Python: Data Structures\n",
    "              \n",
    "</p>\n",
    "</div>\n",
    "\n",
    "Data Science Cohort Live NYC Nov 2023\n",
    "<p>Phase 1: Topic 3</p>\n",
    "<br>\n",
    "<br>\n",
    "\n",
    "<div align = \"right\">\n",
    "<img src=\"Images/flatiron-school-logo.png\" align = \"right\" width=\"200\"/>\n",
    "</div>\n",
    "    \n",
    "    "
   ]
  },
  {
   "cell_type": "code",
   "execution_count": null,
   "metadata": {},
   "outputs": [],
   "source": []
  },
  {
   "cell_type": "code",
   "execution_count": null,
   "metadata": {},
   "outputs": [],
   "source": []
  },
  {
   "cell_type": "code",
   "execution_count": null,
   "metadata": {},
   "outputs": [],
   "source": []
  },
  {
   "cell_type": "markdown",
   "metadata": {
    "cell_style": "split",
    "slideshow": {
     "slide_type": "slide"
    }
   },
   "source": [
    "As we pull in data from various sources:\n",
    "\n",
    "- Need to represent them in Python"
   ]
  },
  {
   "cell_type": "markdown",
   "metadata": {
    "cell_style": "split",
    "slideshow": {
     "slide_type": "fragment"
    }
   },
   "source": [
    "Have choice of:\n",
    " - lists/tuples\n",
    " - dicts\n",
    " - combination of the above.\n"
   ]
  },
  {
   "cell_type": "markdown",
   "metadata": {
    "slideshow": {
     "slide_type": "slide"
    }
   },
   "source": [
    "#### List representation of data for a sequence:"
   ]
  },
  {
   "cell_type": "code",
   "execution_count": 1,
   "id": "558264f9",
   "metadata": {},
   "outputs": [],
   "source": [
    "a_tuple = (3, 8, 2, 5, 4, 2)\n",
    "a_list = [3, 8, 2, 5, 4, 2]\n"
   ]
  },
  {
   "cell_type": "markdown",
   "metadata": {
    "slideshow": {
     "slide_type": "fragment"
    }
   },
   "source": [
    "**Question**: List vs. tuple difference?\n",
    "mutable v immutble\n",
    "organized and not \n"
   ]
  },
  {
   "cell_type": "markdown",
   "metadata": {
    "cell_style": "split",
    "slideshow": {
     "slide_type": "slide"
    }
   },
   "source": [
    "#### List/tuple representation of data:\n",
    "- List of (x,y) pairs. Or list of lists.\n",
    "- This, or simple generalizations this, are very common.\n",
    "- See this when reading text files / csvs."
   ]
  },
  {
   "cell_type": "code",
   "execution_count": 6,
   "id": "16c3e5cf",
   "metadata": {
    "cell_style": "split"
   },
   "outputs": [],
   "source": [
    "xy_list_of_tuples = [(3, 18), (4, 32), \n",
    "                     (5, 50), (6, 72), (7, 128)]"
   ]
  },
  {
   "cell_type": "markdown",
   "metadata": {
    "cell_style": "split",
    "slideshow": {
     "slide_type": "fragment"
    }
   },
   "source": [
    "#### Transforming list/tuple representation of data:\n",
    "Nested list of x values and y values."
   ]
  },
  {
   "cell_type": "code",
   "execution_count": 4,
   "metadata": {
    "cell_style": "split",
    "slideshow": {
     "slide_type": "fragment"
    }
   },
   "outputs": [],
   "source": [
    "xy_list_reformed = [[3,4,5,6,7],\n",
    "                    [18,32,50,72,128]]"
   ]
  },
  {
   "cell_type": "markdown",
   "metadata": {
    "slideshow": {
     "slide_type": "slide"
    }
   },
   "source": [
    "**Question**: Can anyone help me transform the nested list to a list of xy tuple pairs? I'm at a loss..."
   ]
  },
  {
   "cell_type": "code",
   "metadata": {
    "slideshow": {
     "slide_type": "fragment"
    }
   },
   "outputs": [
    {
     "name": "stdout",
     "output_type": "stream",
     "text": [

      "[[3, 4, 5, 6, 7], [18, 32, 50, 72, 128]]\n",
      "[(3, 18), (4, 32), (5, 50), (6, 72), (7, 128)]\n"

     ]
    }
   ],
   "source": [

    "print(xy_list_reformed)\n",
    "print(xy_list_of_tuples)"
=======
    "print(xy_list_reformed)"
=======
    "print(xy_list_reformed)\n",
    "print(xy_list_of_tuples)"
>>>>>>> upstream/main
>>>>>>> notes
   ]
  },
  {
   "cell_type": "code",

   "execution_count": 20,
   "id": "ce6ed1f9",
=======
   "execution_count": 9,
=======
   "execution_count": 20,
   "id": "ce6ed1f9",
>>>>>>> upstream/main
>>>>>>> notes
   "metadata": {
    "slideshow": {
     "slide_type": "-"
    }
   },
   "outputs": [
    {
     "data": {
      "text/plain": [

       "[(3, 4, 5, 6, 7), (18, 32, 50, 72, 128)]"
      ]
     },
     "execution_count": 20,
=======
>>>>>>> upstream/main
>>>>>>> notes
     "metadata": {},
     "output_type": "execute_result"
    }
   ],
   "source": [
    "# help your clueless instructor out\n",
    "\n",

    "xy_tupled_result = list(zip(*xy_list_reformed))\n",
    "xy_tupled_result\n",
    "\n",
    "list(zip(*xy_tupled_result))"
=======
>>>>>>> upstream/main
>>>>>>> notes
   ]
  },
  {
   "cell_type": "markdown",
   "metadata": {
    "slideshow": {
     "slide_type": "slide"
    }
   },
   "source": [
    "**Question**: Can anyone help me transform the list of xy tuple pairs to a nested list? I'm at a loss..."
   ]
  },
  {
   "cell_type": "code",
   "execution_count": 10,
   "metadata": {
    "scrolled": true,
    "slideshow": {
     "slide_type": "fragment"
    }
   },
   "outputs": [
    {
     "data": {
      "text/plain": [
       "[(3, 4, 5, 6, 7), (18, 32, 50, 72, 128)]"
      ]
     },
     "execution_count": 10,
     "metadata": {},
     "output_type": "execute_result"
    }
   ],
   "source": [
    "list(zip(*xy_list_of_tuples))"
   ]
  },
  {
   "cell_type": "code",
   "execution_count": 13,
   "metadata": {},
   "outputs": [
    {
     "data": {
      "text/plain": [
       "<zip at 0x7f80d1727840>"
      ]
     },
     "execution_count": 13,
     "metadata": {},
     "output_type": "execute_result"
    }
   ],
   "source": [
    "# Someone come up and flex those muscles for me\n",
    "nest_list = [list(elem) for elem in xy_list_of_tuples]\n",
    "nest_list\n",
    "print(list(zip(*nest_list)))"
   ]
  },
  {
   "cell_type": "markdown",
   "metadata": {
    "slideshow": {
     "slide_type": "slide"
    }
   },
   "source": [
    "Maybe we have  column names associated with x and y.\n",
    "- Column names are first tuple/list in nested list."
   ]
  },
  {
   "cell_type": "code",
   "execution_count": 24,
   "metadata": {
    "slideshow": {
     "slide_type": "fragment"
    }
   },
   "outputs": [],
   "source": [
    "namedxy_list_of_tuples = [('x', 'y'), (3, 18), (4, 32), (5, 50), (6, 72), (8, 128)]"
   ]
  },
  {
   "cell_type": "markdown",
   "metadata": {
    "slideshow": {
     "slide_type": "fragment"
    }
   },
   "source": [
    "There are alternate ways to represent this data."
   ]
  },
  {
   "cell_type": "markdown",
   "metadata": {
    "slideshow": {
     "slide_type": "slide"
    }
   },
   "source": [
    "#### List of dictionaries representation of data:"
   ]
  },
  {
   "cell_type": "code",

   "execution_count": 21,
   "id": "c3d51f54",
=======
   "execution_count": 25,
=======
   "execution_count": 21,
   "id": "c3d51f54",
>>>>>>> upstream/main
>>>>>>> notes
   "metadata": {},
   "outputs": [],
   "source": [
    "xy_dict_list = [ {'x': 3, 'y': 18}, {'x': 4, 'y': 32}, {'x': 5, 'y': 50}, {'x': 6, 'y': 72}, {'x': 8, 'y': 128} ]"
   ]
  },
  {
   "cell_type": "code",

   "execution_count": 24,
   "id": "37d96994",
=======
   "execution_count": 26,
=======
   "execution_count": 24,
   "id": "37d96994",
>>>>>>> upstream/main
>>>>>>> notes
   "metadata": {},
   "outputs": [
    {
     "data": {
      "text/plain": [
       "18"
      ]
     },

     "execution_count": 24,
=======
     "execution_count": 26,
=======
     "execution_count": 24,
>>>>>>> upstream/main
>>>>>>> notes
     "metadata": {},
     "output_type": "execute_result"
    }
   ],
   "source": [
    "xy_dict_list[0]['y']"
   ]
  },
  {
   "cell_type": "code",

   "execution_count": 25,
   "id": "3abc33a8",
=======
   "execution_count": 27,
=======
   "execution_count": 25,
   "id": "3abc33a8",
>>>>>>> upstream/main
>>>>>>> notes
   "metadata": {
    "slideshow": {
     "slide_type": "fragment"
    }
   },
   "outputs": [
    {
     "data": {
      "text/plain": [
       "50"
      ]
     },

     "execution_count": 25,
=======
     "execution_count": 27,
=======
     "execution_count": 25,
>>>>>>> upstream/main
>>>>>>> notes
     "metadata": {},
     "output_type": "execute_result"
    }
   ],
   "source": [
    "# Get me the y-value of the third entry\n",
    "xy_dict_list[2]['y']"
   ]
  },
  {
   "cell_type": "code",
<<<<<<< HEAD
<<<<<<< HEAD
   "execution_count": 28,
   "id": "6d8df727",
=======
   "execution_count": 35,
>>>>>>> 45bb167 (changed base data structures commit)
=======
   "execution_count": 35,
=======
   "execution_count": 28,
   "id": "6d8df727",
>>>>>>> upstream/main
>>>>>>> notes
   "metadata": {
    "slideshow": {
     "slide_type": "fragment"
    }
   },
   "outputs": [
    {
     "data": {
      "text/plain": [
<<<<<<< HEAD
<<<<<<< HEAD
=======
       "dict_items([('x', 5), ('y', 50)])"
      ]
     },
     "execution_count": 35,
=======
>>>>>>> notes
       "[('x', 5), ('y', 50)]"
      ]
     },
     "execution_count": 28,
<<<<<<< HEAD
=======
       "dict_items([('x', 5), ('y', 50)])"
      ]
     },
     "execution_count": 35,
>>>>>>> 45bb167 (changed base data structures commit)
=======
>>>>>>> upstream/main
>>>>>>> notes
     "metadata": {},
     "output_type": "execute_result"
    }
   ],
   "source": [
    "# get me the key value pairs of the third entry as a list of tuples\n",
<<<<<<< HEAD
<<<<<<< HEAD
    "list(xy_dict_list[2].items())"
=======
    "xy_dict_list[2].items()"
>>>>>>> 45bb167 (changed base data structures commit)
=======
    "xy_dict_list[2].items()"
=======
    "list(xy_dict_list[2].items())"
>>>>>>> upstream/main
>>>>>>> notes
   ]
  },
  {
   "cell_type": "code",
<<<<<<< HEAD
<<<<<<< HEAD
   "execution_count": 29,
   "id": "bcd325c2",
=======
   "execution_count": 52,
>>>>>>> 45bb167 (changed base data structures commit)
=======
   "execution_count": 52,
=======
   "execution_count": 29,
   "id": "bcd325c2",
>>>>>>> upstream/main
>>>>>>> notes
   "metadata": {
    "scrolled": true,
    "slideshow": {
     "slide_type": "subslide"
    }
   },
   "outputs": [
    {
     "name": "stdout",
     "output_type": "stream",
     "text": [
      "[{'x': 3, 'y': 18}, {'x': 4, 'y': 32}, {'x': 5, 'y': 50}, {'x': 6, 'y': 72}, {'x': 8, 'y': 128}]\n"
     ]
    },
    {
     "data": {
      "text/plain": [
       "[3, 4, 5, 6, 8]"
      ]
     },
     "execution_count": 29,
     "metadata": {},
     "output_type": "execute_result"
    }
   ],
   "source": [
    "# get me a list of all x values. use a list comprehension\n",
<<<<<<< HEAD
<<<<<<< HEAD
    "print(xy_dict_list)\n",
    "\n",
=======
>>>>>>> notes
    "[item['x'] for item in xy_dict_list]"
=======
    "[item['x'] for item in xy_dict_list]"
   ]
  },
  {
   "cell_type": "code",
   "execution_count": 53,
   "metadata": {},
   "outputs": [
    {
     "name": "stdout",
     "output_type": "stream",
     "text": [
      "[{'x': 3, 'y': 18}, {'x': 4, 'y': 32}, {'x': 5, 'y': 50}, {'x': 6, 'y': 72}, {'x': 8, 'y': 128}]\n"
     ]
    }
   ],
   "source": [
    "print(xy_dict_list)"
<<<<<<< HEAD
>>>>>>> 45bb167 (changed base data structures commit)
=======
=======
    "print(xy_dict_list)\n",
    "\n",
    "[item['x'] for item in xy_dict_list]"
>>>>>>> upstream/main
>>>>>>> notes
   ]
  },
  {
   "cell_type": "code",
<<<<<<< HEAD
<<<<<<< HEAD
   "execution_count": 34,
   "id": "bd55f945",
=======
   "execution_count": 57,
>>>>>>> 45bb167 (changed base data structures commit)
=======
   "execution_count": 57,
=======
   "execution_count": 34,
   "id": "bd55f945",
>>>>>>> upstream/main
>>>>>>> notes
   "metadata": {
    "slideshow": {
     "slide_type": "fragment"
    }
   },
   "outputs": [
    {
     "data": {
      "text/plain": [
       "[3, 4, 5]"
      ]
     },
<<<<<<< HEAD
<<<<<<< HEAD
     "execution_count": 34,
=======
     "execution_count": 57,
>>>>>>> 45bb167 (changed base data structures commit)
=======
     "execution_count": 57,
=======
     "execution_count": 34,
>>>>>>> upstream/main
>>>>>>> notes
     "metadata": {},
     "output_type": "execute_result"
    }
   ],
   "source": [
    "# get me a list of all x values with y < = 50. use a list comprehension.\n",
<<<<<<< HEAD
<<<<<<< HEAD
    "[elem['x'] for elem in xy_dict_list if elem['y'] <= 50  ]"
=======
    "[item['x'] for item in xy_dict_list if item['y'] <= 50]"
>>>>>>> 45bb167 (changed base data structures commit)
=======
    "[item['x'] for item in xy_dict_list if item['y'] <= 50]"
=======
    "[elem['x'] for elem in xy_dict_list if elem['y'] <= 50  ]"
>>>>>>> upstream/main
>>>>>>> notes
   ]
  },
  {
   "cell_type": "code",
<<<<<<< HEAD
<<<<<<< HEAD
   "execution_count": 44,
   "id": "7ee64233",
=======
   "execution_count": 72,
>>>>>>> 45bb167 (changed base data structures commit)
=======
   "execution_count": 72,
=======
   "execution_count": 44,
   "id": "7ee64233",
>>>>>>> upstream/main
>>>>>>> notes
   "metadata": {
    "slideshow": {
     "slide_type": "slide"
    }
   },
   "outputs": [
    {
     "name": "stdout",
     "output_type": "stream",
     "text": [
      "[{'x': 3, 'y': 18}, {'x': 4, 'y': 32}, {'x': 5, 'y': 50}, {'x': 6, 'y': 72}, {'x': 8, 'y': 128}]\n"
     ]
    },
    {
     "data": {
      "text/plain": [
<<<<<<< HEAD
<<<<<<< HEAD
=======
       "[('x', 3), ('y', 18)]"
      ]
     },
     "execution_count": 72,
=======
>>>>>>> notes
       "[[3, 4, 5, 6, 8], [18, 32, 50, 72, 128]]"
      ]
     },
     "execution_count": 44,
<<<<<<< HEAD
=======
       "[('x', 3), ('y', 18)]"
      ]
     },
     "execution_count": 72,
>>>>>>> 45bb167 (changed base data structures commit)
=======
>>>>>>> upstream/main
>>>>>>> notes
     "metadata": {},
     "output_type": "execute_result"
    }
   ],
   "source": [
    "print(xy_dict_list)\n",
    "\n",
    "# get a nested list of the value lists corresponding to the x,y keys\n",
<<<<<<< HEAD
<<<<<<< HEAD
=======
    "for pairs in xy_dict_list "
=======
>>>>>>> notes
    "\n",
    "x_values = []\n",
    "y_values = []\n",
    "for pairs in xy_dict_list:\n",
    "    x = pairs['x']\n",
    "    y = pairs['y']\n",
    "    x_values.append(x)\n",
    "    y_values.append(y)\n",
    "[x_values, y_values]"
<<<<<<< HEAD
=======
    "for pairs in xy_dict_list "
>>>>>>> 45bb167 (changed base data structures commit)
=======
>>>>>>> upstream/main
>>>>>>> notes
   ]
  },
  {
   "cell_type": "markdown",
   "metadata": {
    "slideshow": {
     "slide_type": "fragment"
    }
   },
   "source": [
    "Will see this kind of stuff a bit when using the csv library and manipulating data from csvs."
   ]
  },
  {
   "cell_type": "markdown",
   "metadata": {
    "slideshow": {
     "slide_type": "slide"
    }
   },
   "source": [
    "#### Dictionary of lists representation:"
   ]
  },
  {
   "cell_type": "code",
<<<<<<< HEAD
<<<<<<< HEAD
   "execution_count": 45,
   "id": "3f572c3b",
=======
   "execution_count": 73,
>>>>>>> 45bb167 (changed base data structures commit)
=======
   "execution_count": 73,
=======
   "execution_count": 45,
   "id": "3f572c3b",
>>>>>>> upstream/main
>>>>>>> notes
   "metadata": {
    "slideshow": {
     "slide_type": "-"
    }
   },
   "outputs": [],
   "source": [
    "xy_list_dict = {'x': [3,4,5,6,7], 'y': [18,32,50,72,128] }"
   ]
  },
  {
   "cell_type": "markdown",
   "metadata": {
    "slideshow": {
     "slide_type": "fragment"
    }
   },
   "source": [
    "Convert dictionary of lists to list of dictionaries:"
   ]
  },
  {
   "cell_type": "code",
<<<<<<< HEAD
<<<<<<< HEAD
   "execution_count": 48,
   "id": "4f3ff666",
=======
   "execution_count": 74,
>>>>>>> 45bb167 (changed base data structures commit)
=======
   "execution_count": 74,
=======
   "execution_count": 48,
   "id": "4f3ff666",
>>>>>>> upstream/main
>>>>>>> notes
   "metadata": {
    "scrolled": true,
    "slideshow": {
     "slide_type": "subslide"
    }
   },
   "outputs": [
    {
     "name": "stdout",
     "output_type": "stream",
     "text": [
      "[{'x': 3, 'y': 18}, {'x': 4, 'y': 32}, {'x': 5, 'y': 50}, {'x': 6, 'y': 72}, {'x': 8, 'y': 128}]\n",
      "{'x': [3, 4, 5, 6, 7], 'y': [18, 32, 50, 72, 128]}\n"
     ]
    }
   ],
   "source": [
    "\n",
    "print(xy_dict_list)\n",
    "print(xy_list_dict)"
   ]
  },
  {
   "cell_type": "code",
   "execution_count": null,
   "metadata": {},
   "outputs": [],
   "source": []
  },
  {
   "cell_type": "markdown",
   "metadata": {
    "slideshow": {
     "slide_type": "slide"
    }
   },
   "source": [
    "We have found that nested_list is:"
   ]
  },
  {
   "cell_type": "code",
<<<<<<< HEAD
<<<<<<< HEAD
   "execution_count": 50,
   "id": "36bde98b",
=======
   "execution_count": 75,
>>>>>>> 45bb167 (changed base data structures commit)
=======
   "execution_count": 75,
=======
   "execution_count": 50,
   "id": "36bde98b",
>>>>>>> upstream/main
>>>>>>> notes
   "metadata": {
    "slideshow": {
     "slide_type": "fragment"
    }
   },
   "outputs": [
    {
     "data": {
      "text/plain": [
       "[[3, 4, 5, 6, 8], [18, 32, 50, 72, 128]]"
      ]
     },
<<<<<<< HEAD
<<<<<<< HEAD
     "execution_count": 50,
=======
     "execution_count": 75,
>>>>>>> 45bb167 (changed base data structures commit)
=======
     "execution_count": 75,
=======
     "execution_count": 50,
>>>>>>> upstream/main
>>>>>>> notes
     "metadata": {},
     "output_type": "execute_result"
    }
   ],
   "source": [
    "# get a nested list of the value lists corresponding to the x,y keys\n",
    "\n",
    "nested_list = []\n",
    "\n",
    "for keys in xy_dict_list[0]:\n",
    "    nested_list.append([item[keys] for item in xy_dict_list])\n",
    "    \n",
    "nested_list"
   ]
  },
  {
   "cell_type": "markdown",
   "metadata": {
    "slideshow": {
     "slide_type": "subslide"
    }
   },
   "source": [
    "and"
   ]
  },
  {
   "cell_type": "code",
<<<<<<< HEAD
<<<<<<< HEAD
   "execution_count": 52,
   "id": "aec2c91c",
=======
   "execution_count": 22,
>>>>>>> 45bb167 (changed base data structures commit)
=======
   "execution_count": 22,
=======
   "execution_count": 52,
   "id": "aec2c91c",
>>>>>>> upstream/main
>>>>>>> notes
   "metadata": {
    "cell_style": "split",
    "slideshow": {
     "slide_type": "fragment"
    }
   },
   "outputs": [
    {
     "data": {
      "text/plain": [
       "['x', 'y']"
      ]
     },
     "execution_count": 52,
     "metadata": {},
     "output_type": "execute_result"
    }
   ],
   "source": [
    "xy_keys = list(xy_dict_list[0].keys())\n",
    "xy_keys"
   ]
  },
  {
   "cell_type": "code",
<<<<<<< HEAD
<<<<<<< HEAD
   "execution_count": 55,
   "id": "70035454",
=======
   "execution_count": 58,
>>>>>>> 45bb167 (changed base data structures commit)
=======
   "execution_count": 58,
=======
   "execution_count": 55,
   "id": "70035454",
>>>>>>> upstream/main
>>>>>>> notes
   "metadata": {
    "cell_style": "center",
    "slideshow": {
     "slide_type": "fragment"
    }
   },
   "outputs": [
    {
     "data": {
      "text/plain": [
       "{'x': [3, 4, 5, 6, 8], 'y': [18, 32, 50, 72, 128]}"
      ]
     },
     "execution_count": 55,
     "metadata": {},
     "output_type": "execute_result"
    }
   ],
   "source": [
    "final_result = {}\n",
    "nested_list\n",
    "# to get final result as dict of list\n",
    "dict(zip(xy_keys, nested_list))"
   ]
  },
  {
   "cell_type": "markdown",
   "metadata": {
    "slideshow": {
     "slide_type": "slide"
    }
   },
   "source": [
    "Using nested comprehensions. "
   ]
  },
  {
   "cell_type": "code",
   "execution_count": 132,
   "metadata": {
    "slideshow": {
     "slide_type": "fragment"
    }
   },
   "outputs": [
    {
     "data": {
      "text/plain": [
       "{'x': [3, 4, 5, 6, 8], 'y': [18, 32, 50, 72, 128]}"
      ]
     },
     "execution_count": 132,
     "metadata": {},
     "output_type": "execute_result"
    }
   ],
   "source": [
    "\n",
    "# inner list comprehension iterates over every element \n",
    "# in list of dictionaries and creates list of values for a given key\n",
    "\n",
    "# outer is a dict comprehension that returns {given key: list of values for that key}\n",
    "\n",
    "new_dict = {key: [elem[key] for elem in xy_dict_list] for key in xy_keys}\n",
    "new_dict"
   ]
  },
  {
   "cell_type": "markdown",
   "metadata": {
    "slideshow": {
     "slide_type": "subslide"
    }
   },
   "source": [
    "One takeaway is making such a simple data transformation is a major pain in the ass in base Python. But sometimes no choice."
   ]
  },
  {
   "cell_type": "markdown",
   "metadata": {
    "slideshow": {
     "slide_type": "slide"
    }
   },
   "source": [
    "#### Nested Dict/List structures:\n",
    "- Many formats are hierarchical/nested named structures.\n",
    "- JSON (a format you'll see soon) often gets translated to this in Python.\n",
    "\n",
    "An example:"
   ]
  },
  {
   "cell_type": "code",
<<<<<<< HEAD
<<<<<<< HEAD
   "execution_count": 56,
   "id": "da8bd0e2",
=======
   "execution_count": 60,
>>>>>>> 45bb167 (changed base data structures commit)
=======
   "execution_count": 60,
=======
   "execution_count": 56,
   "id": "da8bd0e2",
>>>>>>> upstream/main
>>>>>>> notes
   "metadata": {
    "slideshow": {
     "slide_type": "fragment"
    }
   },
   "outputs": [],
   "source": [
    "nested_dict = {'metadata': {'timestamp': '12-1-2020 08:25:03',\n",
    "                            'enter_by_user': 'Oscar the Grouch', 'entry_dbase': 'NORAD3' },\n",
    "              'data': {'missile_type': \"Taepodong 2\", \"hit_target\": False, 'land_location': [34, 129]} }"
   ]
  },
  {
   "cell_type": "code",
<<<<<<< HEAD
<<<<<<< HEAD
   "execution_count": 63,
   "id": "6632fb98",
=======
   "execution_count": 61,
>>>>>>> 45bb167 (changed base data structures commit)
=======
   "execution_count": 61,
=======
   "execution_count": 63,
   "id": "6632fb98",
>>>>>>> upstream/main
>>>>>>> notes
   "metadata": {
    "slideshow": {
     "slide_type": "subslide"
    }
   },
   "outputs": [
    {
     "data": {
      "text/plain": [
       "'Taepodong 2'"
      ]
     },
     "execution_count": 63,
     "metadata": {},
     "output_type": "execute_result"
    }
   ],
   "source": [
    "nested_dict['data']['missile_type']"
   ]
  },
  {
   "cell_type": "markdown",
   "metadata": {
    "slideshow": {
     "slide_type": "fragment"
    }
   },
   "source": [
    "\n",
    "<div align = \"center\">\n",
    "<center><img src=\"Images/taepodong.png\" align = \"center\" width=\"400\"/></center>\n",
    "</div>\n"
   ]
  },
  {
   "cell_type": "markdown",
   "metadata": {
    "slideshow": {
     "slide_type": "slide"
    }
   },
   "source": [
    "#### Next up\n",
    "\n",
    "- We'll start opening files.\n",
    "- The data forms and structures from this lecture will pop up a lot.\n",
    "- Transforming between various forms will be your bread and butter."
   ]
  }
 ],
 "metadata": {
  "celltoolbar": "Slideshow",
  "kernelspec": {
   "display_name": "Python 3",
   "language": "python",
   "name": "python3"
  },
  "language_info": {
   "codemirror_mode": {
    "name": "ipython",
    "version": 3
   },
   "file_extension": ".py",
   "mimetype": "text/x-python",
   "name": "python",
   "nbconvert_exporter": "python",
   "pygments_lexer": "ipython3",
   "version": "3.8.5"
  }
 },
 "nbformat": 4,
 "nbformat_minor": 5
}
